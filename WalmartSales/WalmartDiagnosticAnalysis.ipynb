{
 "cells": [
  {
   "cell_type": "markdown",
   "metadata": {},
   "source": [
    "# Report of Walmart Sales from Myanmar country\n",
    "## Introduction\n",
    "The data was dowloaded from Kaggle and it contains 995 records of orders and the following columns:\n",
    "\n",
    "invoice_id, branch, city, customer_type, gender, product_line, unit_price, quantity, tax, revenue, order_date, order_time payment_method, income, gross_margin_percentage, gross_income and rating.\n",
    "\n",
    "This data set starts on 1st january 2019 and ends on 30st March 2019. It covers only three cities -Yangon, Naypyitaw and Mandalya - and six product lines. \n",
    "\n",
    "\n",
    "## Key insights\n",
    "- The descriptive data analysis made to this dataset showed that Walmart income in Myanmar is shrinking in 2019, its income started at 111000 dollars in January and it ended up at 104000 dollar after a February income report of 91000 dollars.\n",
    "- Walmart is facing a reduction of its cutomers in Yangon and Naypyitaw, futhermore its customers are buying less goods in those cities, this made Yangon and Naypyitaw income shrank in February and it didn't enable a recovery in March.\n",
    "- Mandalay is not tackling niether a great reduction in their customer nor goods sold  per customer, but in february its customers bought less sport and travel goods which are more expensive on average, this made Manday income shrank in February even when the total quantity of goods sold was larger than January.\n",
    "- Therefore there are 3 main reasons why Walmart income is shrinking, first Walmart customers are shinking, second its cutomers are buying less good and third they are buying less expensive goods.\n",
    "## Analisys\n",
    "From January 1st 2019 to March 30th 2019 Walmart received 995 Customers across their three branches, Branch A located in the city of Yangon served 34.07% of the customers, Branch B located in the city of Naypyitaw served 32.86% and Branch C in Mandalay the remaining 33.07%, the data shows that walmart customers are almost even distirbuted across the three cities.\n",
    "\n",
    "![Customers by City](CustomersbyCity.JPG)\n",
    "\n",
    "Walmart income underwent a sharply shrank in February, the income fell 21% or 20000 dollars. In March the income recovered 13000 dollars. \n",
    "\n",
    "![I&Q](Income&Quantity2.JPG)\n",
    "\n",
    "The first question that comes to our minds is Why Walmart income was lower in February and March than in January? As our Income & Quantity Chart showed one key explanation to this event is that as the income went down so did the quantity the customers bought.\n",
    "\n",
    "The later apply just for the cities of Naypitaw and Yangon, when the quantity sold shank so did the income, but the data doesn't show the same behavior in the city of Mandalay.\n",
    "\n",
    "![I&QNaypitaw2](I&QNaypitaw2.JPG)\n",
    "\n",
    "![I&QYangon](I&QYangon.JPG)\n",
    "\n",
    "In the city of Mandalay the data tell us that when the quantity increases the income shrink, and when the quantity shrink the income increases. This means that is not just the quantity sold which has positive effects in the income but the price of the products.\n",
    "\n",
    "![I&QMandalay](I&QMandalay2.JPG)\n",
    "\n",
    "Before answer why does Mandalay data has that behaviour, I am going to answer why did the quantity sold in Naypitaw and Yangon shrank and it doesn't recover in March. The analysis suggests that the total quantity sold without distintion goes down for one of two reason or a combination of the two, the first reason a shrink in customers, the second is a shrink in the quantity per customer. Therefore Walmart sales and income are facing a reduction because they are serving less customers like in February and March in Naypitaw and because its customers are buying less on average like February and March in Yangon and February in Naypitaw.\n",
    "\n",
    "![C&AQ](C&AQ.JPG)\n",
    "\n",
    "Now I am going to show that Mandalay case give us a thrid reason why the income is going down. Walmart income is shrinking not just because the total quantity is lower than the initial period or Walmart is loosing clients or they are buying less, but Walmart clients are changing their consumption patterns. The three branches of Walmart in this dataset has 6 product lines and different price units, but some product lines has higher price units on average than other and even this average is different for every branch like the following chart shows.\n",
    "\n",
    "![AVGUP](AVGUP.JPG)\n",
    "\n",
    "As far now we Know that Mandalay has a different pattern in regard as its income, but when we look at how the quantity of each product line changes accross the months we realize that the product line with the higher average unit price -sport and travel- had the largest shrink in February reason why even if the total quantity increased the cash flow was less because customers didn't buy expensive goods that month. \n",
    "\n",
    "If we look at the quantity of Yangon and Naypyitaw there is a different story, almost every product lines undergoes a decline in February and their recovery was not enough to got the same level of income.\n",
    "\n",
    "![PLTQ](PLTQ.JPG)"
   ]
  }
 ],
 "metadata": {
  "kernelspec": {
   "display_name": "eda",
   "language": "python",
   "name": "python3"
  },
  "language_info": {
   "name": "python",
   "version": "3.12.7"
  }
 },
 "nbformat": 4,
 "nbformat_minor": 2
}
